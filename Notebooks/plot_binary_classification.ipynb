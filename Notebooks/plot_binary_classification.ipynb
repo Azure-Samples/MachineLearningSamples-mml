{
 "cells": [
  {
   "cell_type": "code",
   "execution_count": 1,
   "metadata": {
    "collapsed": false
   },
   "outputs": [],
   "source": [
    "%matplotlib inline"
   ]
  },
  {
   "cell_type": "markdown",
   "metadata": {},
   "source": [
    "\n",
    ".. index:: classification, binary, ROC\n",
    "\n",
    "Binary classification\n",
    "=====================\n",
    "\n",
    "A binary classification problem is to find\n",
    "a frontier to separate two clouds of points\n",
    "(see `binary classification <https://en.wikipedia.org/wiki/Binary_classification>`_).\n",
    "\n"
   ]
  },
  {
   "cell_type": "markdown",
   "metadata": {},
   "source": [
    "What does it solve?\n",
    "-------------------\n",
    "\n",
    "We start by generating an artificial cloud of points.\n",
    "\n"
   ]
  },
  {
   "cell_type": "code",
   "execution_count": 2,
   "metadata": {
    "collapsed": false
   },
   "outputs": [],
   "source": [
    "from sklearn.datasets import make_classification\n",
    "X, Y = make_classification(n_samples=500, n_features=2, n_classes=2,\n",
    "                           n_repeated=0, n_redundant=0)"
   ]
  },
  {
   "cell_type": "markdown",
   "metadata": {},
   "source": [
    "We plot the data.\n",
    "\n"
   ]
  },
  {
   "cell_type": "code",
   "execution_count": 3,
   "metadata": {
    "collapsed": false
   },
   "outputs": [
    {
     "data": {
      "text/plain": [
       "[<matplotlib.lines.Line2D at 0x246660b9c88>]"
      ]
     },
     "execution_count": 3,
     "metadata": {},
     "output_type": "execute_result"
    },
    {
     "data": {
      "image/png": "[encoded data removed]",
      "text/plain": [
       "<matplotlib.figure.Figure at 0x24665c98198>"
      ]
     },
     "metadata": {},
     "output_type": "display_data"
    }
   ],
   "source": [
    "import matplotlib.pyplot as plt\n",
    "fig = plt.figure(figsize=(5, 5))\n",
    "ax = plt.subplot()\n",
    "ax.plot(X[Y == 0, 0], X[Y == 0, 1], \"ob\")\n",
    "ax.plot(X[Y == 1, 0], X[Y == 1, 1], \"or\")"
   ]
  },
  {
   "cell_type": "markdown",
   "metadata": {},
   "source": [
    "We represent the data in dataframe.\n",
    "\n"
   ]
  },
  {
   "cell_type": "code",
   "execution_count": 4,
   "metadata": {
    "collapsed": false
   },
   "outputs": [],
   "source": [
    "import pandas\n",
    "data = pandas.DataFrame(data=X, columns=[\"X1\", \"X2\"])\n",
    "data[\"Label\"] = Y.astype(float)"
   ]
  },
  {
   "cell_type": "markdown",
   "metadata": {},
   "source": [
    "From a geometrical point of view, a binary classification \n",
    "problem consists in finding the best boundary between \n",
    "two clouds of points. The simplest is to assume that it is \n",
    "a straight line. In this case, a logistic regression model \n",
    "will help us.\n",
    "\n"
   ]
  },
  {
   "cell_type": "code",
   "execution_count": 1,
   "metadata": {
    "collapsed": false
   },
   "outputs": [],
   "source": [
    "import os\n",
    "import sys\n",
    "nb_dir = os.path.split(os.getcwd())[0]"
   ]
  },
  {
   "cell_type": "code",
   "execution_count": 13,
   "metadata": {
    "collapsed": false
   },
   "outputs": [
    {
     "ename": "ImportError",
     "evalue": "DLL load failed: The specified module could not be found.",
     "output_type": "error",
     "traceback": [
      "\u001b[0;31m---------------------------------------------------------------------------\u001b[0m",
      "\u001b[0;31mImportError\u001b[0m                               Traceback (most recent call last)",
      "\u001b[0;32m<ipython-input-13-05e303f083f6>\u001b[0m in \u001b[0;36m<module>\u001b[0;34m()\u001b[0m\n\u001b[0;32m----> 1\u001b[0;31m \u001b[1;32mimport\u001b[0m \u001b[0mrevoscalepy\u001b[0m\u001b[1;33m\u001b[0m\u001b[0m\n\u001b[0m",
      "\u001b[0;32mC:\\Users\\zhnan\\AppData\\Local\\Continuum\\Anaconda3\\lib\\site-packages\\revoscalepy\\__init__.py\u001b[0m in \u001b[0;36m<module>\u001b[0;34m()\u001b[0m\n\u001b[1;32m      4\u001b[0m \u001b[1;31m################################################\u001b[0m\u001b[1;33m\u001b[0m\u001b[1;33m\u001b[0m\u001b[0m\n\u001b[1;32m      5\u001b[0m \u001b[1;33m\u001b[0m\u001b[0m\n\u001b[0;32m----> 6\u001b[0;31m \u001b[1;32mfrom\u001b[0m \u001b[1;33m.\u001b[0m\u001b[0mRxSerializable\u001b[0m \u001b[1;32mimport\u001b[0m \u001b[0mRxMissingValues\u001b[0m\u001b[1;33m\u001b[0m\u001b[0m\n\u001b[0m\u001b[1;32m      7\u001b[0m \u001b[1;33m\u001b[0m\u001b[0m\n\u001b[1;32m      8\u001b[0m \u001b[1;32mfrom\u001b[0m \u001b[1;33m.\u001b[0m\u001b[0mcomputecontext\u001b[0m\u001b[1;33m.\u001b[0m\u001b[0mRxComputeContext\u001b[0m \u001b[1;32mimport\u001b[0m \u001b[0mRxComputeContext\u001b[0m\u001b[1;33m\u001b[0m\u001b[0m\n",
      "\u001b[0;32mC:\\Users\\zhnan\\AppData\\Local\\Continuum\\Anaconda3\\lib\\site-packages\\revoscalepy\\RxSerializable.py\u001b[0m in \u001b[0;36m<module>\u001b[0;34m()\u001b[0m\n\u001b[1;32m     24\u001b[0m \u001b[1;33m\u001b[0m\u001b[0m\n\u001b[1;32m     25\u001b[0m \u001b[1;32mif\u001b[0m \u001b[0mos\u001b[0m\u001b[1;33m.\u001b[0m\u001b[0mpath\u001b[0m\u001b[1;33m.\u001b[0m\u001b[0misdir\u001b[0m\u001b[1;33m(\u001b[0m\u001b[0mos\u001b[0m\u001b[1;33m.\u001b[0m\u001b[0mpath\u001b[0m\u001b[1;33m.\u001b[0m\u001b[0mjoin\u001b[0m\u001b[1;33m(\u001b[0m\u001b[0mos\u001b[0m\u001b[1;33m.\u001b[0m\u001b[0mpath\u001b[0m\u001b[1;33m.\u001b[0m\u001b[0mdirname\u001b[0m\u001b[1;33m(\u001b[0m\u001b[0mos\u001b[0m\u001b[1;33m.\u001b[0m\u001b[0mpath\u001b[0m\u001b[1;33m.\u001b[0m\u001b[0mrealpath\u001b[0m\u001b[1;33m(\u001b[0m\u001b[0m__file__\u001b[0m\u001b[1;33m)\u001b[0m\u001b[1;33m)\u001b[0m\u001b[1;33m,\u001b[0m \u001b[1;34m\"rxLibs\"\u001b[0m\u001b[1;33m)\u001b[0m\u001b[1;33m)\u001b[0m\u001b[1;33m:\u001b[0m\u001b[1;33m\u001b[0m\u001b[0m\n\u001b[0;32m---> 26\u001b[0;31m     \u001b[1;32mfrom\u001b[0m \u001b[1;33m.\u001b[0m\u001b[0mrxLibs\u001b[0m\u001b[1;33m.\u001b[0m\u001b[0mpylink\u001b[0m \u001b[1;32mimport\u001b[0m \u001b[0mpx_call\u001b[0m\u001b[1;33m\u001b[0m\u001b[0m\n\u001b[0m\u001b[1;32m     27\u001b[0m \u001b[1;32melse\u001b[0m\u001b[1;33m:\u001b[0m\u001b[1;33m\u001b[0m\u001b[0m\n\u001b[1;32m     28\u001b[0m     \u001b[1;32mfrom\u001b[0m \u001b[0mpylink\u001b[0m \u001b[1;32mimport\u001b[0m \u001b[0mpx_call\u001b[0m\u001b[1;33m\u001b[0m\u001b[0m\n",
      "\u001b[0;31mImportError\u001b[0m: DLL load failed: The specified module could not be found."
     ]
    }
   ],
   "source": [
    "import revoscalepy"
   ]
  },
  {
   "cell_type": "code",
   "execution_count": 9,
   "metadata": {
    "collapsed": false
   },
   "outputs": [
    {
     "ename": "ImportError",
     "evalue": "DLL load failed: The specified module could not be found.",
     "output_type": "error",
     "traceback": [
      "\u001b[0;31m---------------------------------------------------------------------------\u001b[0m",
      "\u001b[0;31mImportError\u001b[0m                               Traceback (most recent call last)",
      "\u001b[0;32m<ipython-input-9-144462343885>\u001b[0m in \u001b[0;36m<module>\u001b[0;34m()\u001b[0m\n\u001b[0;32m----> 1\u001b[0;31m \u001b[1;32mfrom\u001b[0m \u001b[0mrevoscalepy\u001b[0m \u001b[1;32mimport\u001b[0m \u001b[0mrx_logit\u001b[0m\u001b[1;33m,\u001b[0m \u001b[0mrx_predict\u001b[0m\u001b[1;33m\u001b[0m\u001b[0m\n\u001b[0m\u001b[1;32m      2\u001b[0m \u001b[0mlogreg\u001b[0m \u001b[1;33m=\u001b[0m \u001b[0mrx_logit\u001b[0m\u001b[1;33m(\u001b[0m\u001b[1;34m\"Label ~ X1 + X2\"\u001b[0m\u001b[1;33m,\u001b[0m \u001b[0mdata\u001b[0m\u001b[1;33m=\u001b[0m\u001b[0mdata\u001b[0m\u001b[1;33m)\u001b[0m\u001b[1;33m\u001b[0m\u001b[0m\n",
      "\u001b[0;32mC:\\Users\\zhnan\\AppData\\Local\\Continuum\\Anaconda3\\lib\\site-packages\\revoscalepy\\__init__.py\u001b[0m in \u001b[0;36m<module>\u001b[0;34m()\u001b[0m\n\u001b[1;32m      4\u001b[0m \u001b[1;31m################################################\u001b[0m\u001b[1;33m\u001b[0m\u001b[1;33m\u001b[0m\u001b[0m\n\u001b[1;32m      5\u001b[0m \u001b[1;33m\u001b[0m\u001b[0m\n\u001b[0;32m----> 6\u001b[0;31m \u001b[1;32mfrom\u001b[0m \u001b[1;33m.\u001b[0m\u001b[0mRxSerializable\u001b[0m \u001b[1;32mimport\u001b[0m \u001b[0mRxMissingValues\u001b[0m\u001b[1;33m\u001b[0m\u001b[0m\n\u001b[0m\u001b[1;32m      7\u001b[0m \u001b[1;33m\u001b[0m\u001b[0m\n\u001b[1;32m      8\u001b[0m \u001b[1;32mfrom\u001b[0m \u001b[1;33m.\u001b[0m\u001b[0mcomputecontext\u001b[0m\u001b[1;33m.\u001b[0m\u001b[0mRxComputeContext\u001b[0m \u001b[1;32mimport\u001b[0m \u001b[0mRxComputeContext\u001b[0m\u001b[1;33m\u001b[0m\u001b[0m\n",
      "\u001b[0;32mC:\\Users\\zhnan\\AppData\\Local\\Continuum\\Anaconda3\\lib\\site-packages\\revoscalepy\\RxSerializable.py\u001b[0m in \u001b[0;36m<module>\u001b[0;34m()\u001b[0m\n\u001b[1;32m     24\u001b[0m \u001b[1;33m\u001b[0m\u001b[0m\n\u001b[1;32m     25\u001b[0m \u001b[1;32mif\u001b[0m \u001b[0mos\u001b[0m\u001b[1;33m.\u001b[0m\u001b[0mpath\u001b[0m\u001b[1;33m.\u001b[0m\u001b[0misdir\u001b[0m\u001b[1;33m(\u001b[0m\u001b[0mos\u001b[0m\u001b[1;33m.\u001b[0m\u001b[0mpath\u001b[0m\u001b[1;33m.\u001b[0m\u001b[0mjoin\u001b[0m\u001b[1;33m(\u001b[0m\u001b[0mos\u001b[0m\u001b[1;33m.\u001b[0m\u001b[0mpath\u001b[0m\u001b[1;33m.\u001b[0m\u001b[0mdirname\u001b[0m\u001b[1;33m(\u001b[0m\u001b[0mos\u001b[0m\u001b[1;33m.\u001b[0m\u001b[0mpath\u001b[0m\u001b[1;33m.\u001b[0m\u001b[0mrealpath\u001b[0m\u001b[1;33m(\u001b[0m\u001b[0m__file__\u001b[0m\u001b[1;33m)\u001b[0m\u001b[1;33m)\u001b[0m\u001b[1;33m,\u001b[0m \u001b[1;34m\"rxLibs\"\u001b[0m\u001b[1;33m)\u001b[0m\u001b[1;33m)\u001b[0m\u001b[1;33m:\u001b[0m\u001b[1;33m\u001b[0m\u001b[0m\n\u001b[0;32m---> 26\u001b[0;31m     \u001b[1;32mfrom\u001b[0m \u001b[1;33m.\u001b[0m \u001b[0mrxLibs\u001b[0m\u001b[1;33m.\u001b[0m\u001b[0mpylink\u001b[0m \u001b[1;32mimport\u001b[0m \u001b[0mpx_call\u001b[0m\u001b[1;33m\u001b[0m\u001b[0m\n\u001b[0m\u001b[1;32m     27\u001b[0m \u001b[1;32melse\u001b[0m\u001b[1;33m:\u001b[0m\u001b[1;33m\u001b[0m\u001b[0m\n\u001b[1;32m     28\u001b[0m     \u001b[1;32mfrom\u001b[0m \u001b[0mpylink\u001b[0m \u001b[1;32mimport\u001b[0m \u001b[0mpx_call\u001b[0m\u001b[1;33m\u001b[0m\u001b[0m\n",
      "\u001b[0;31mImportError\u001b[0m: DLL load failed: The specified module could not be found."
     ]
    }
   ],
   "source": [
    "from revoscalepy import rx_logit, rx_predict\n",
    "logreg = rx_logit(\"Label ~ X1 + X2\", data=data)"
   ]
  },
  {
   "cell_type": "markdown",
   "metadata": {},
   "source": [
    "The model produces a line boundary\n",
    "whose coefficients are:\n",
    "\n"
   ]
  },
  {
   "cell_type": "code",
   "execution_count": 11,
   "metadata": {
    "collapsed": false
   },
   "outputs": [
    {
     "ename": "NameError",
     "evalue": "name 'logreg' is not defined",
     "output_type": "error",
     "traceback": [
      "\u001b[0;31m---------------------------------------------------------------------------\u001b[0m",
      "\u001b[0;31mNameError\u001b[0m                                 Traceback (most recent call last)",
      "\u001b[0;32m<ipython-input-11-d5a4eaa31eff>\u001b[0m in \u001b[0;36m<module>\u001b[0;34m()\u001b[0m\n\u001b[0;32m----> 1\u001b[0;31m \u001b[0mprint\u001b[0m\u001b[1;33m(\u001b[0m\u001b[0mlogreg\u001b[0m\u001b[1;33m.\u001b[0m\u001b[0mcoef_\u001b[0m\u001b[1;33m)\u001b[0m\u001b[1;33m\u001b[0m\u001b[0m\n\u001b[0m",
      "\u001b[0;31mNameError\u001b[0m: name 'logreg' is not defined"
     ]
    }
   ],
   "source": [
    "print(logreg.coef_)"
   ]
  },
  {
   "cell_type": "markdown",
   "metadata": {},
   "source": [
    "We could trace this line but this graph\n",
    "would only be valid for a linear model.\n",
    "Instead we color the background of the graph with\n",
    "the color of the class predicted by the model.\n",
    "\n"
   ]
  },
  {
   "cell_type": "code",
   "execution_count": null,
   "metadata": {
    "collapsed": false
   },
   "outputs": [],
   "source": [
    "import numpy\n",
    "\n",
    "def colorie(X, model, ax, fig):\n",
    "    if isinstance(X, pandas.DataFrame):\n",
    "        X = X.as_matrix()\n",
    "    xmin, xmax = numpy.min(X[:, 0]), numpy.max(X[:, 0])\n",
    "    ymin, ymax = numpy.min(X[:, 1]), numpy.max(X[:, 1])\n",
    "    hx = (xmax - xmin) / 100\n",
    "    hy = (ymax - ymin) / 100\n",
    "    xx, yy = numpy.mgrid[xmin:xmax:hx, ymin:ymax:hy]\n",
    "    grid = numpy.c_[xx.ravel(), yy.ravel()]\n",
    "    dfgrid = pandas.DataFrame(data=grid, columns=[\"X1\", \"X2\"])\n",
    "    probs = rx_predict(model, dfgrid).as_matrix()[:, 1].reshape(xx.shape)\n",
    "\n",
    "    contour = ax.contourf(xx, yy, probs, 25, cmap=\"RdBu\", vmin=0, vmax=1)\n",
    "    ax_c = fig.colorbar(contour)\n",
    "    ax_c.set_label(\"$P(y = 1)$\")\n",
    "    ax_c.set_ticks([0, .25, .5, .75, 1])\n",
    "    ax.set_xlim([xmin, xmax])\n",
    "    ax.set_ylim([ymin, ymax])\n",
    "\n",
    "\n",
    "fig = plt.figure(figsize=(7, 5))\n",
    "ax = plt.subplot()\n",
    "colorie(X, logreg, ax, fig)\n",
    "ax.scatter(X[:, 0], X[:, 1], c=Y, s=50,\n",
    "           cmap=\"RdBu\", vmin=-.2, vmax=1.2,\n",
    "           edgecolor=\"white\", linewidth=1)\n",
    "ax.set(aspect=\"equal\", xlabel=\"$X_1$\", ylabel=\"$X_2$\")"
   ]
  },
  {
   "cell_type": "markdown",
   "metadata": {},
   "source": [
    "Evaluation\n",
    "----------\n",
    "\n",
    "There are two tests that are carried out in a quasi-systematic way\n",
    "for this type of problem: one :epkg:`confusion matrix`\n",
    "And a curve :epkg:`ROC`.\n",
    "\n",
    "The first step is to divide the dataset into\n",
    "training set (train) and test set (test).\n",
    "This is necessary because some models can simply\n",
    "learn by heart reach a null error on the data\n",
    "used to learn. This is the case with the\n",
    "`nearest neighbors <https://en.wikipedia.org/wiki/Search_of_more_neighbourne neighbors>` _.\n",
    "The division must be random. Moreover,\n",
    "this can be repeated several times \n",
    "to ensure the robustness of the results.\n",
    "\n"
   ]
  },
  {
   "cell_type": "code",
   "execution_count": 7,
   "metadata": {
    "collapsed": false
   },
   "outputs": [],
   "source": [
    "try:\n",
    "    from sklearn.model_selection import train_test_split\n",
    "except ImportError:\n",
    "    from sklearn.cross_validation import train_test_split\n",
    "data_train, data_test = train_test_split(data)"
   ]
  },
  {
   "cell_type": "markdown",
   "metadata": {},
   "source": [
    "We train on the training set.\n",
    "\n"
   ]
  },
  {
   "cell_type": "code",
   "execution_count": 8,
   "metadata": {
    "collapsed": false
   },
   "outputs": [
    {
     "ename": "NameError",
     "evalue": "name 'rx_logistic_regression' is not defined",
     "output_type": "error",
     "traceback": [
      "\u001b[0;31m---------------------------------------------------------------------------\u001b[0m",
      "\u001b[0;31mNameError\u001b[0m                                 Traceback (most recent call last)",
      "\u001b[0;32m<ipython-input-8-b72240ed0bc0>\u001b[0m in \u001b[0;36m<module>\u001b[0;34m()\u001b[0m\n\u001b[0;32m----> 1\u001b[0;31m \u001b[0mlogreg\u001b[0m \u001b[1;33m=\u001b[0m \u001b[0mrx_logistic_regression\u001b[0m\u001b[1;33m(\u001b[0m\u001b[1;34m\"Label ~ X1 + X2\"\u001b[0m\u001b[1;33m,\u001b[0m \u001b[0mdata\u001b[0m\u001b[1;33m=\u001b[0m\u001b[0mdata_train\u001b[0m\u001b[1;33m)\u001b[0m\u001b[1;33m\u001b[0m\u001b[0m\n\u001b[0m",
      "\u001b[0;31mNameError\u001b[0m: name 'rx_logistic_regression' is not defined"
     ]
    }
   ],
   "source": [
    "logreg = rx_logistic_regression(\"Label ~ X1 + X2\", data=data_train)"
   ]
  },
  {
   "cell_type": "markdown",
   "metadata": {},
   "source": [
    "We predict on the test set.\n",
    "\n"
   ]
  },
  {
   "cell_type": "code",
   "execution_count": null,
   "metadata": {
    "collapsed": false
   },
   "outputs": [],
   "source": [
    "y_pred = rx_predict(logreg, data=data_test)"
   ]
  },
  {
   "cell_type": "markdown",
   "metadata": {},
   "source": [
    "We compute the :epkg:`confusion matrix`.\n",
    "\n"
   ]
  },
  {
   "cell_type": "code",
   "execution_count": null,
   "metadata": {
    "collapsed": false
   },
   "outputs": [],
   "source": [
    "from sklearn.metrics import confusion_matrix\n",
    "conf = confusion_matrix(data_test[\"Label\"], y_pred[\"PredictedLabel\"])\n",
    "print(conf)"
   ]
  },
  {
   "cell_type": "markdown",
   "metadata": {},
   "source": [
    "The numbers on the diagonal indicate the observations\n",
    "ranked in the right class. Elsewhere, these are the miclassified observations\n",
    "These are blue dots on a red background for example.\n",
    "\n"
   ]
  },
  {
   "cell_type": "code",
   "execution_count": null,
   "metadata": {
    "collapsed": false
   },
   "outputs": [],
   "source": [
    "fig = plt.figure(figsize=(7, 5))\n",
    "ax = plt.subplot()\n",
    "colorie(data_test[[\"X1\", \"X2\"]], logreg, ax, fig)\n",
    "ax.scatter(data_test[\"X1\"], data_test[\"X2\"], c=data_test[\"Label\"], s=50,\n",
    "           cmap=\"RdBu\", vmin=-.2, vmax=1.2,\n",
    "           edgecolor=\"white\", linewidth=1)\n",
    "ax.set(aspect=\"equal\", xlabel=\"$X_1$\", ylabel=\"$X_2$\")\n",
    "ax.set_title(\"Résultats sur la base de test\")"
   ]
  },
  {
   "cell_type": "markdown",
   "metadata": {},
   "source": [
    "Some points are more or less far from the boundary\n",
    "the model found between the two classes. The more\n",
    "a point is far from the border, the more the model is sure of its class.\n",
    "This is true for logistic regression but also for most\n",
    "of the models used to make a binary classification.\n",
    "This is how the model is able to give an relevance indicator:\n",
    "the distance between the point and the boundary the model found.\n",
    "This distance is converted into a score or a probability.\n",
    "The :epkg:`confusion matrix` does not use this information,\n",
    "The curve :epkg:`ROC` does. Let's see how.\n",
    "This is inspired by the example\n",
    "`Receiver Operating Characteristic (ROC) <http://scikit-learn.org/stable/auto_examples/model_selection/plot_roc.html>` _.\n",
    "The curve :epkg:`ROC` is the same with scores or probabilities.\n",
    "\n"
   ]
  },
  {
   "cell_type": "code",
   "execution_count": null,
   "metadata": {
    "collapsed": false
   },
   "outputs": [],
   "source": [
    "print(y_pred[:5])"
   ]
  },
  {
   "cell_type": "markdown",
   "metadata": {},
   "source": [
    "For a binary classification, :epkg:`microsoftml` returns \n",
    "the predicted label, a score and the probability of each\n",
    "observation to be in class 1.\n",
    "We build the :epkg:`ROC` curve.\n",
    "The model is right if it finds the right class.\n",
    "with is translated by ``y_pred[\"PredictedLabel\"] == data_test[\"Label\"]``.\n",
    "The score is ``y_pred[\"Probability\"]`` when the predicted class is 1,\n",
    "``1 - y_pred[\"Probability\"]`` otherwise.\n",
    "\n"
   ]
  },
  {
   "cell_type": "code",
   "execution_count": null,
   "metadata": {
    "collapsed": false
   },
   "outputs": [],
   "source": [
    "from sklearn.metrics import roc_curve\n",
    "prob_pred = [y_pred.loc[i, \"Probability\"] if y_pred.loc[i, \"PredictedLabel\"] \\\n",
    "             else (1 - y_pred.loc[i, \"Probability\"]) for i in range(0, y_pred.shape[0])]\n",
    "good = y_pred[\"PredictedLabel\"] == (data_test[\"Label\"] == 1)\n",
    "fpr, tpr, th = roc_curve((y_pred[\"PredictedLabel\"] == data_test[\"Label\"]).ravel(), prob_pred)"
   ]
  },
  {
   "cell_type": "markdown",
   "metadata": {},
   "source": [
    "For index ``i``, ``th[i]`` is a threshold,\n",
    "``tpr[i]`` is the ratio of correclty classified observations \n",
    "with a probability higher than``th[i]``.\n",
    "``fpr[i]`` is the ratio of misclassified observations\n",
    "with a probability higher than``th[i]``.\n",
    "\n"
   ]
  },
  {
   "cell_type": "code",
   "execution_count": null,
   "metadata": {
    "collapsed": false
   },
   "outputs": [],
   "source": [
    "print(\"i=2\", th[2], tpr[2], fpr[2])\n",
    "print(\"i={0}\".format(len(th) - 2), th[-2], tpr[-2], fpr[-2])"
   ]
  },
  {
   "cell_type": "markdown",
   "metadata": {},
   "source": [
    "The lower the score is, the higher the proportion is.\n",
    "When the threshold is very low, the model returns a score or a probability\n",
    "always above the threshold and the two proportions are equal to 1.\n",
    "If the threshold is high, the two proportions are null.\n",
    "We draw the curve by using many distinct thresholds.\n",
    "\n"
   ]
  },
  {
   "cell_type": "code",
   "execution_count": null,
   "metadata": {
    "collapsed": false
   },
   "outputs": [],
   "source": [
    "plt.figure()\n",
    "lw = 2\n",
    "plt.plot(fpr, tpr, color='darkorange', lw=lw, label='ROC Curve')\n",
    "plt.plot([0, 1], [0, 1], color='navy', lw=lw, linestyle='--')\n",
    "plt.xlim([0.0, 1.0])\n",
    "plt.ylim([0.0, 1.05])\n",
    "plt.xlabel(\"False Positive Rate\")\n",
    "plt.ylabel(\"True Positive Rate\")\n",
    "plt.title('ROC')\n",
    "plt.legend(loc=\"lower right\")"
   ]
  },
  {
   "cell_type": "markdown",
   "metadata": {},
   "source": [
    "The area under the curve or :epkg:`AUC` (Area Under the Curve)\n",
    "is related to the relevance of the model.\n",
    "The higher the score is, the larger the proportion of correclty classified\n",
    "observations is compared to the proportion of misclassified examples. \n",
    "When these proportions are always equal whatever the threshold is,\n",
    "the curve fits the first diagonal and the model\n",
    "has learned nothing. The higher the curve is, the better the model is.\n",
    "This is why the area under the curve is calculated.\n",
    "\n"
   ]
  },
  {
   "cell_type": "code",
   "execution_count": null,
   "metadata": {
    "collapsed": false
   },
   "outputs": [],
   "source": [
    "from sklearn.metrics import auc\n",
    "print(auc(fpr, tpr))"
   ]
  },
  {
   "cell_type": "markdown",
   "metadata": {},
   "source": [
    "The curve :epkg:`ROC` always applies to a binary decision.\n",
    "The binary classification can be turned into three binary decisions:\n",
    "\n",
    "* The model correclty classified an example, either in class 0 or class 1.\n",
    "* The model correclty classified an example in class 0.\n",
    "* The model correclty classified an example in class 1.\n",
    "\n",
    "If the answers are linked, the model usually gives\n",
    "different performance on these three issues.\n",
    "We compute the curves :epkg:`ROC` related to these three questions.\n",
    "\n"
   ]
  },
  {
   "cell_type": "code",
   "execution_count": null,
   "metadata": {
    "collapsed": false
   },
   "outputs": [],
   "source": [
    "fpr_cl = dict()\n",
    "tpr_cl = dict()\n",
    "fpr_cl[\"classe 0\"], tpr_cl[\"classe 0\"], _ = roc_curve(\n",
    "    1 - data_test[\"Label\"], 1 - y_pred[\"Probability\"])\n",
    "fpr_cl[\"classe 1\"], tpr_cl[\"classe 1\"], _ = roc_curve(\n",
    "    data_test[\"Label\"], y_pred[\"Probability\"])  # y_test == 1\n",
    "fpr_cl[\"all\"], tpr_cl[\"all\"] = fpr, tpr  # We already computed this."
   ]
  },
  {
   "cell_type": "markdown",
   "metadata": {},
   "source": [
    "We plot.\n",
    "\n"
   ]
  },
  {
   "cell_type": "code",
   "execution_count": null,
   "metadata": {
    "collapsed": false
   },
   "outputs": [],
   "source": [
    "plt.figure()\n",
    "for key in fpr_cl:\n",
    "    plt.plot(fpr_cl[key], tpr_cl[key], label=key)\n",
    "\n",
    "plt.plot([0, 1], [0, 1], color='navy', lw=lw, linestyle='--')\n",
    "plt.xlim([0.0, 1.0])\n",
    "plt.ylim([0.0, 1.05])\n",
    "plt.xlabel(\"False Positive Rate\")\n",
    "plt.ylabel(\"True Positive Rate\")\n",
    "plt.title('ROC(s)')\n",
    "plt.legend(loc=\"lower right\")\n",
    "\n",
    "plt.show()"
   ]
  }
 ],
 "metadata": {
  "anaconda-cloud": {},
  "kernelspec": {
   "display_name": "Python [default]",
   "language": "python",
   "name": "python3"
  },
  "language_info": {
   "codemirror_mode": {
    "name": "ipython",
    "version": 3
   },
   "file_extension": ".py",
   "mimetype": "text/x-python",
   "name": "python",
   "nbconvert_exporter": "python",
   "pygments_lexer": "ipython3",
   "version": "3.5.2"
  }
 },
 "nbformat": 4,
 "nbformat_minor": 0
}
