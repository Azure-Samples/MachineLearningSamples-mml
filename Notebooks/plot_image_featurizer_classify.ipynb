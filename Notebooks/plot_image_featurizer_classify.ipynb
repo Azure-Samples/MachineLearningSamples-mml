{
 "cells": [
  {
   "cell_type": "code",
   "execution_count": null,
   "metadata": {},
   "outputs": [],
   "source": [
    "%matplotlib inline"
   ]
  },
  {
   "cell_type": "markdown",
   "metadata": {},
   "source": [
    "\n",
    ".. index:: image, featurization\n",
    "\n",
    "# Image Featurization Applied to Image Classification\n",
    "\n",
    "\n",
    "Here is the scenario this sample addresses: train a model \n",
    "to classify or recognize the type of an image using labeled \n",
    "observations from a training set provided. Specifically, \n",
    "this sample trains a multiclass linear model using the \n",
    ":epkg:`microsoftml:rx_logistic_regression` algorithm to \n",
    "distinguish between fish, helicopter and fighter jet images. \n",
    "The multiclass training task uses the feature vectors of the \n",
    "images from the training set to learn how to classify these images.\n",
    "\n",
    "The procedure for training the model has the following steps:\n",
    "\n",
    "- Locate the images to use in the training set and get their feature vectors.\n",
    "- Label the images in the training set by type.\n",
    "- Train a multiclass classifier using the :epkg:`microsoftml:rx_logistic_regression` algorithm.\n",
    "- Specify a new image not in the training set to classify and use the trained model \n",
    "  to predict its type.\n",
    "\n"
   ]
  },
  {
   "cell_type": "code",
   "execution_count": null,
   "metadata": {},
   "outputs": [],
   "source": [
    "import os\n",
    "\n",
    "try:\n",
    "    root = os.path.dirname(__file__)\n",
    "except NameError:\n",
    "    # __file__ does not exist in a notebook\n",
    "    root = \".\"\n",
    "\n",
    "# An absolute path must be used if the current folder\n",
    "# is not the script's one.\n",
    "image_location = os.path.abspath(os.path.join(root, \"Data\", \"Pictures\"))"
   ]
  },
  {
   "cell_type": "markdown",
   "metadata": {},
   "source": [
    "Let's take all images in the local data folder.\n",
    "The last subfolder corresponds to the class the image belongs to.\n",
    "Let's get that information too.\n",
    "\n"
   ]
  },
  {
   "cell_type": "code",
   "execution_count": null,
   "metadata": {},
   "outputs": [],
   "source": [
    "import glob\n",
    "images = glob.glob(image_location + \"/**/*.jpg\", recursive=True)\n",
    "images_type = [img.replace(\"\\\\\", \"/\").split(\"/\")[-2] for img in images]\n",
    "print(list(zip(images_type, images))[0])\n",
    "print(list(zip(images_type, images))[-1])"
   ]
  },
  {
   "cell_type": "markdown",
   "metadata": {},
   "source": [
    "Now since we're going to train on these images, we need to have a label.\n",
    "and to place everything in a dataframe.\n",
    "We also use float as labels.\n",
    "\n"
   ]
  },
  {
   "cell_type": "code",
   "execution_count": null,
   "metadata": {},
   "outputs": [],
   "source": [
    "import pandas\n",
    "images_df = pandas.DataFrame(data=dict(image=images, image_type=images_type))\n",
    "\n",
    "label_int = {'Fish': 0., 'Helicopter': 1., 'FighterJet':2., 'Flower': 3.}\n",
    "images_df[\"Label\"] = images_df[\"image_type\"].apply(lambda t: label_int[t])\n",
    "images_df = images_df[[\"Label\", \"image_type\", \"image\"]]\n",
    "print(images_df)"
   ]
  },
  {
   "cell_type": "markdown",
   "metadata": {},
   "source": [
    "Let's display the first and last images.\n",
    "\n"
   ]
  },
  {
   "cell_type": "code",
   "execution_count": null,
   "metadata": {},
   "outputs": [],
   "source": [
    "import matplotlib.pyplot as plt\n",
    "from PIL import Image\n",
    "fig, ax = plt.subplots(1, 2)\n",
    "ax[0].imshow(Image.open(images_df.loc[0, \"image\"]))\n",
    "ax[1].imshow(Image.open(images_df.loc[images_df.shape[0]-1, \"image\"]))"
   ]
  },
  {
   "cell_type": "markdown",
   "metadata": {},
   "source": [
    "We take out one image from this training set.\n",
    "We'll use it later to test the model on one example.\n",
    "\n"
   ]
  },
  {
   "cell_type": "code",
   "execution_count": null,
   "metadata": {},
   "outputs": [],
   "source": [
    "import random\n",
    "h = random.randint(0, images_df.shape[0]-1)\n",
    "train_df = images_df.drop(h).reset_index(drop=True)\n",
    "test_df = images_df[h:h+1].reset_index(drop=True)\n",
    "print(test_df)\n",
    "\n",
    "fig, ax = plt.subplots(1, 1)\n",
    "ax.imshow(Image.open(test_df.loc[0, \"image\"]))"
   ]
  },
  {
   "cell_type": "markdown",
   "metadata": {},
   "source": [
    "We train a multiclass classifier using the :epkg:`microsoftml:rx_logistic_regression`\n",
    "algorithm. Just for kicks, and to compare from the previous sample, \n",
    "we'll use the Resnet-50 model.\n",
    "\n"
   ]
  },
  {
   "cell_type": "code",
   "execution_count": null,
   "metadata": {},
   "outputs": [],
   "source": [
    "from microsoftml import rx_featurize, load_image, resize_image, extract_pixels, featurize_image\n",
    "from microsoftml import rx_logistic_regression\n",
    "\n",
    "image_model = rx_logistic_regression(formula=\"Label~Features\", data=train_df, \n",
    "                                     method=\"multiClass\", ml_transforms=[\n",
    "                        load_image(cols=dict(Features=\"image\")),\n",
    "                        resize_image(cols=\"Features\", width=227, height=227),\n",
    "                        extract_pixels(cols=\"Features\"),\n",
    "                        featurize_image(cols=\"Features\", dnn_model=\"Alexnet\")])"
   ]
  },
  {
   "cell_type": "markdown",
   "metadata": {},
   "source": [
    "Note that ``type=\"multiClass\"`` indicates that this is a multiclass training task.\n",
    "Finally, let's give it an image and its feature vector to classify. \n",
    "Note that this image was not part of the original training set. \n",
    "See the actual code for details.\n",
    "Now use the model to predict the type of the image.\n",
    "\n"
   ]
  },
  {
   "cell_type": "code",
   "execution_count": null,
   "metadata": {},
   "outputs": [],
   "source": [
    "from microsoftml import rx_predict\n",
    "prediction = rx_predict(image_model, data=test_df)\n",
    "print(prediction)"
   ]
  },
  {
   "cell_type": "markdown",
   "metadata": {},
   "source": [
    "The highest score gives the predicted label.\n",
    "\n"
   ]
  },
  {
   "cell_type": "code",
   "execution_count": null,
   "metadata": {},
   "outputs": [],
   "source": [
    "import numpy as np\n",
    "label_str = {v: k for k, v in label_int.items()}\n",
    "predicted_classes = np.argmax(prediction.as_matrix(), axis=1)\n",
    "print(predicted_classes)\n",
    "print(label_str[predicted_classes[0]])"
   ]
  }
 ],
 "metadata": {
  "kernelspec": {
   "display_name": "Python 3",
   "language": "python",
   "name": "python3"
  },
  "language_info": {
   "codemirror_mode": {
    "name": "ipython",
    "version": 3
   },
   "file_extension": ".py",
   "mimetype": "text/x-python",
   "name": "python",
   "nbconvert_exporter": "python",
   "pygments_lexer": "ipython3",
   "version": "3.6.1"
  }
 },
 "nbformat": 4,
 "nbformat_minor": 1
}
