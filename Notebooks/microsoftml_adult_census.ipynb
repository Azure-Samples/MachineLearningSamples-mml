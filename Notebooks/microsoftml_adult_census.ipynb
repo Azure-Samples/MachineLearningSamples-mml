{
 "cells": [
  {
   "cell_type": "code",
   "execution_count": null,
   "metadata": {},
   "outputs": [],
   "source": [
    "%matplotlib inline"
   ]
  },
  {
   "cell_type": "markdown",
   "metadata": {},
   "source": [
    "To run this sample, please first install 'microsoftml' package.\n",
    "- For Windows: 'pip install https://rserverdistribution.azureedge.net/production/revoscalepy/9.2.1/wb/1033/d282048eb04046999211535f7368a0a4/windows/microsoftml-1.5.0-py3-none-any.whl'\n",
    "- 'microsoftml' support for Mac will come soon.\n",
    "\n",
    "# Categorical Features\n",
    "\n",
    "\n",
    "Many machine learned models only consider numerical features\n",
    "and many machine learning problem do have non numerical features.\n",
    "One kind is categories. Somebody's university is not\n",
    "numerical, it is one item among a list of unordered possibilities.\n",
    "Before training any model, we need to convert that kind of features\n",
    "into numerical features.\n",
    "\n",
    "One famous problem is the \n",
    "`adult data set <https://archive.ics.uci.edu/ml/datasets/adult>`_.\n",
    "The goal is to predict whether somebody earns more than 50K a year or not\n",
    "based on his age, education, occupation, relationship, .. Most of the features \n",
    "are categorical.\n",
    "\n"
   ]
  },
  {
   "cell_type": "code",
   "execution_count": null,
   "metadata": {},
   "outputs": [],
   "source": [
    "columns = [\"age\", \"workclass\", \"fnlwgt\", \"education\", \"educationnum\", \"maritalstatus\",\n",
    "           \"occupation\", \"relationship\", \"race\", \"sex\", \"capitalgain\", \"capitalloss\", \n",
    "           \"hoursperweek\", \"nativecountry\", \"Label\"]\n",
    "\n",
    "import pandas\n",
    "import os\n",
    "\n",
    "def preprocess_data(df):\n",
    "    # The data contains '?' for missing values.\n",
    "    # We replace them and remove them.\n",
    "    # We convert every numerical features into either str or float.\n",
    "    # We remove extra spaces and put every thing in lower case.\n",
    "    for c in df.columns:\n",
    "        df[c] = df[c].apply(lambda x: numpy.nan if x == '?' else x)\n",
    "    df = df.dropna()\n",
    "    for c in df.columns:\n",
    "        try:\n",
    "            newc = df[c].astype(float)\n",
    "            print(\"numerical\", c)\n",
    "        except Exception as e:\n",
    "            print(\"categorical\", c)\n",
    "            newc = df[c].astype(str).apply(lambda s: s.strip(\". \").lower())\n",
    "        df[c] = newc\n",
    "    return df\n",
    "\n",
    "if os.path.exists(\"adult.train.csv\"):\n",
    "    train = pandas.read_csv(\"adult.train.csv\")\n",
    "else:\n",
    "    train = pandas.read_csv(\"https://archive.ics.uci.edu/ml/machine-learning-databases/adult/adult.data\",\n",
    "                            header=None, names=columns)\n",
    "    train = preprocess_data(train)\n",
    "    # We store the data on disk to avoid loading it every time\n",
    "    # we execute the script.\n",
    "    train.to_csv(\"adult.train.csv\", index=False)\n",
    "print(train.head())"
   ]
  },
  {
   "cell_type": "markdown",
   "metadata": {},
   "source": [
    "We do the same for the test data.\n",
    "\n"
   ]
  },
  {
   "cell_type": "code",
   "execution_count": null,
   "metadata": {},
   "outputs": [],
   "source": [
    "if os.path.exists(\"adult.test.csv\"):\n",
    "    test = pandas.read_csv(\"adult.test.csv\")\n",
    "else:\n",
    "    test = pandas.read_csv(\"https://archive.ics.uci.edu/ml/machine-learning-databases/adult/adult.test\",\n",
    "                            header=None, names=columns)\n",
    "    test = preprocess_data(test)\n",
    "    # We store the data on disk to avoid loading it every time\n",
    "    # we execute the script.\n",
    "    test.to_csv(\"adult.test.csv\", index=False)\n",
    "    \n",
    "print(test.head())"
   ]
  },
  {
   "cell_type": "markdown",
   "metadata": {},
   "source": [
    "We convert the label into boolean.\n",
    "\n"
   ]
  },
  {
   "cell_type": "code",
   "execution_count": null,
   "metadata": {},
   "outputs": [],
   "source": [
    "train[\"Label\"] = train[\"Label\"] == \">50k\"\n",
    "test[\"Label\"] = test[\"Label\"] == \">50k\""
   ]
  },
  {
   "cell_type": "markdown",
   "metadata": {},
   "source": [
    "The data contains numerical and categorical features.\n",
    "Let's choose a random forest because it usually works better \n",
    "than a linear model on non continuous features.\n",
    "Let's first train a model on a couple of numerical features.\n",
    "\n"
   ]
  },
  {
   "cell_type": "code",
   "execution_count": null,
   "metadata": {},
   "outputs": [],
   "source": [
    "from microsoftml import rx_fast_trees, rx_predict\n",
    "trees = rx_fast_trees(\"Label ~ age + fnlwgt + educationnum + capitalgain + capitalloss\", data=train)"
   ]
  },
  {
   "cell_type": "markdown",
   "metadata": {},
   "source": [
    "Let's see the :epkg:`confusion matrix`.\n",
    "\n"
   ]
  },
  {
   "cell_type": "code",
   "execution_count": null,
   "metadata": {},
   "outputs": [],
   "source": [
    "y_pred = rx_predict(trees, test)\n",
    "print(y_pred.head())\n",
    "print(y_pred.tail())\n",
    "\n",
    "from sklearn.metrics import confusion_matrix\n",
    "conf = confusion_matrix(test[\"Label\"], y_pred[\"PredictedLabel\"])\n",
    "print(conf)"
   ]
  },
  {
   "cell_type": "markdown",
   "metadata": {},
   "source": [
    "Not very good. We need to use categorical features.\n",
    "Let's choose education without any conversion.\n",
    "\n"
   ]
  },
  {
   "cell_type": "code",
   "execution_count": null,
   "metadata": {},
   "outputs": [],
   "source": [
    "try:\n",
    "    trees2 = rx_fast_trees(\"Label ~ age + fnlwgt + educationnum + capitalgain + capitalloss + education\", data=train)\n",
    "except Exception as e:\n",
    "    print(e)"
   ]
  },
  {
   "cell_type": "markdown",
   "metadata": {},
   "source": [
    "As expected it fails. We need to convert it into a numerical feature.\n",
    "We have two options. The first one is to use \n",
    ":epkg:`scikit-learn` on the input dataframe\n",
    "(see `OneHotEncoder <http://scikit-learn.org/stable/modules/generated/sklearn.preprocessing.OneHotEncoder.html>`_ for example).\n",
    "Or we can ask :epkg:`microsoftml` to that instead \n",
    "with :epkg:`microsoft:categorical`.\n",
    "We create a new variable *educationCat* and we replace it in the formula.\n",
    "\n"
   ]
  },
  {
   "cell_type": "code",
   "execution_count": null,
   "metadata": {},
   "outputs": [],
   "source": [
    "from microsoftml import categorical\n",
    "\n",
    "trees2 = rx_fast_trees(\"Label ~ age + fnlwgt + educationnum + capitalgain + capitalloss + education_cat\",\n",
    "                       data=train,\n",
    "                       ml_transforms=[categorical(cols=dict(education_cat=\"education\"))])"
   ]
  },
  {
   "cell_type": "markdown",
   "metadata": {},
   "source": [
    "We look into the :epkg:`confusion matrix`.\n",
    "\n"
   ]
  },
  {
   "cell_type": "code",
   "execution_count": null,
   "metadata": {},
   "outputs": [],
   "source": [
    "y_pred2 = rx_predict(trees2, test)\n",
    "conf = confusion_matrix(test[\"Label\"], y_pred2[\"PredictedLabel\"])\n",
    "print(conf)"
   ]
  },
  {
   "cell_type": "markdown",
   "metadata": {},
   "source": [
    "Still not very good. We add more.\n",
    "\n"
   ]
  },
  {
   "cell_type": "code",
   "execution_count": null,
   "metadata": {},
   "outputs": [],
   "source": [
    "cats = {}\n",
    "for col in [\"workclass\", \"education\", \"maritalstatus\", \"occupation\", \n",
    "            \"relationship\", \"race\", \"sex\", \"nativecountry\"]:\n",
    "    cats[col + \"_cat\"] = col\n",
    "\n",
    "formula = \"Label ~ age + fnlwgt + educationnum + capitalgain + capitalloss +\" + \\\n",
    "          \" + \".join(sorted(cats.keys()))\n",
    "          \n",
    "print(cats)\n",
    "print(formula)\n",
    "\n",
    "trees3 = rx_fast_trees(formula, data=train,\n",
    "                       ml_transforms=[categorical(cols=cats)])\n",
    "y_pred3 = rx_predict(trees3, test)\n",
    "conf = confusion_matrix(test[\"Label\"], y_pred3[\"PredictedLabel\"])\n",
    "print(conf)"
   ]
  },
  {
   "cell_type": "markdown",
   "metadata": {},
   "source": [
    ".. index:: ROC\n",
    "\n",
    "This is better. We draw the :epkg:`ROC` curve.\n",
    "\n"
   ]
  },
  {
   "cell_type": "code",
   "execution_count": null,
   "metadata": {},
   "outputs": [],
   "source": [
    "from sklearn.metrics import roc_curve\n",
    "fpr, tpr, th = roc_curve(test[\"Label\"], y_pred3[\"Probability\"])\n",
    "\n",
    "import matplotlib.pyplot as plt\n",
    "plt.figure()\n",
    "plt.plot(fpr, tpr, label=\">50k\")\n",
    "plt.plot([0, 1], [0, 1], color='navy', linestyle='--')\n",
    "plt.xlim([0.0, 1.0])\n",
    "plt.ylim([0.0, 1.05])\n",
    "plt.xlabel(\"False Positive Rate\")\n",
    "plt.ylabel(\"True Positive Rate\")\n",
    "plt.title('ROC - Adult Data Set')\n",
    "plt.legend(loc=\"lower right\")"
   ]
  },
  {
   "cell_type": "markdown",
   "metadata": {},
   "source": [
    "The advantage of using the categorical transform\n",
    "inside the model is the data transformation does not \n",
    "have to be applied on the test data. It is part of the model\n",
    "or the `pipeline <http://scikit-learn.org/stable/modules/generated/sklearn.pipeline.Pipeline.html>`_\n",
    "to follow :epkg:`scikit-learn` concept.\n",
    "\n"
   ]
  },
  {
   "cell_type": "code",
   "execution_count": null,
   "metadata": {},
   "outputs": [],
   "source": [
    "plt.show()"
   ]
  }
 ],
 "metadata": {
  "kernelspec": {
   "display_name": "Python 3",
   "language": "python",
   "name": "python3"
  },
  "language_info": {
   "codemirror_mode": {
    "name": "ipython",
    "version": 3
   },
   "file_extension": ".py",
   "mimetype": "text/x-python",
   "name": "python",
   "nbconvert_exporter": "python",
   "pygments_lexer": "ipython3",
   "version": "3.5.2"
  }
 },
 "nbformat": 4,
 "nbformat_minor": 1
}
